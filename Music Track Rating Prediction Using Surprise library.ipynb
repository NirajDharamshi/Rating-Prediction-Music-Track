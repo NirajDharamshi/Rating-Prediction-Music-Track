{
 "cells": [
  {
   "cell_type": "code",
   "execution_count": 0,
   "metadata": {
    "colab": {},
    "colab_type": "code",
    "id": "OJHbw2ToyiTD"
   },
   "outputs": [],
   "source": [
    "#Importing surprise packages\n",
    "from surprise import BaselineOnly\n",
    "from surprise import Dataset\n",
    "from surprise import Reader\n",
    "from surprise.model_selection import cross_validate\n",
    "import pandas as pd\n",
    "import numpy as np\n",
    "import os, io\n",
    "from surprise import SVD\n",
    "from surprise import accuracy"
   ]
  },
  {
   "cell_type": "code",
   "execution_count": 0,
   "metadata": {
    "colab": {},
    "colab_type": "code",
    "id": "gNI4nTmTx7v1"
   },
   "outputs": [],
   "source": [
    "file_path = os.path.expanduser('train.csv') \n",
    "reader = Reader(sep=',',rating_scale=(0,100),skip_lines=1)\n",
    "ldata = Dataset.load_from_file(file_path, reader=reader)  #reading data from file to surprise datastructure dataset\n",
    "trainingSet = ldata.build_full_trainset()                 #building training set from raw data\n",
    "testSet = trainingSet.build_anti_testset(fill=None)       #creating test set of all unknown ratings without imputing with anything."
   ]
  },
  {
   "cell_type": "code",
   "execution_count": 0,
   "metadata": {
    "colab": {},
    "colab_type": "code",
    "id": "eXzcZBbuyIG5"
   },
   "outputs": [],
   "source": [
    "algo = SVD('n_epochs'= 10,'lr_all'= 0.005,'reg_all'= 0.02,'n_factors'= 150)  #SVD model with tuned parameters                                            #\n",
    "algo.fit(trainingSet)                                                       #training with SVD on training set\n",
    "predictions = algo.test(testSet)                                            #prediction(testing) with test set(anti test set)"
   ]
  },
  {
   "cell_type": "code",
   "execution_count": 0,
   "metadata": {
    "colab": {},
    "colab_type": "code",
    "id": "zfdGdCtvzHWU"
   },
   "outputs": [],
   "source": [
    "df = pd.DataFrame(np.array(predictions).reshape(-1,5), columns = list(\"abcde\"))  #converting prediction(prediction datastructure of surprise) to pandas dataframe\n",
    "df=df.drop('c', 1)  #dropping unwanted columns                                                              \n",
    "df=df.drop('e',1)\n",
    "df['d']=df['d'].astype(int)  #converting to int-rounding off ratings\n",
    "df2=pd.read_csv('test.csv')  #reading test file\n",
    "df2['Final'] = df2.User.astype(str).str.cat(df2.Track.astype(str), sep='-')  #merging user and track as required in output file\n",
    "df['Final1'] = df.a.astype(str).str.cat(df.b.astype(str), sep='-')         \n",
    "dft = df[df['Final1'].isin(df2['Final'])]  #comparing test dataframe and prediction dataframe to extract ratings of test file\n",
    "df12=dft.drop('a',1)  #droping unwanted columns\n",
    "df123=df12.drop('b',1)\n",
    "df6=df123.rename(index=str, columns={\"d\": \"Rating\", \"Final1\": \"Id\"})  #renaming columns as required in test file\n",
    "dff = df6[['Id', 'Rating']]  #creating new dataframe similar to required output file\n",
    "dff.to_csv(\"out.csv\", index=False)  #converting dataframe to csv"
   ]
  }
 ],
 "metadata": {
  "colab": {
   "name": "256-Program-Final.ipynb",
   "provenance": [],
   "version": "0.3.2"
  },
  "kernelspec": {
   "display_name": "Python 3",
   "language": "python",
   "name": "python3"
  },
  "language_info": {
   "codemirror_mode": {
    "name": "ipython",
    "version": 3
   },
   "file_extension": ".py",
   "mimetype": "text/x-python",
   "name": "python",
   "nbconvert_exporter": "python",
   "pygments_lexer": "ipython3",
   "version": "3.6.5"
  }
 },
 "nbformat": 4,
 "nbformat_minor": 1
}
